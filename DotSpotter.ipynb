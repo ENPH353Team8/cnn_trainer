{
  "cells": [
    {
      "cell_type": "code",
      "execution_count": 36,
      "metadata": {
        "id": "7QMCxLELGQ2T"
      },
      "outputs": [],
      "source": [
        "import math\n",
        "import numpy as np\n",
        "import re\n",
        "import os\n",
        "\n",
        "from collections import Counter\n",
        "from matplotlib import pyplot as plt\n",
        "from PIL import Image"
      ]
    },
    {
      "cell_type": "code",
      "execution_count": 37,
      "metadata": {},
      "outputs": [],
      "source": [
        "WIDTH = 1920\n",
        "HEIGHT = 1080\n",
        "NUM_IMAGES = 5"
      ]
    },
    {
      "cell_type": "markdown",
      "metadata": {
        "id": "Bxo8J7sBXGHg"
      },
      "source": [
        "## Load data"
      ]
    },
    {
      "cell_type": "code",
      "execution_count": 38,
      "metadata": {
        "id": "3OdzN5oLLYiO"
      },
      "outputs": [
        {
          "name": "stdout",
          "output_type": "stream",
          "text": [
            "['dots', 'nodots']\n"
          ]
        }
      ],
      "source": [
        "PATH = r\"C:\\Users\\joeyd\\Documents\\School\\3rd Year\\UBC Aerodesign\\dot-spotter\\testimages\"\n",
        "labels_raw = os.listdir(PATH)\n",
        "labels = labels_raw\n",
        "print(labels_raw)"
      ]
    },
    {
      "cell_type": "code",
      "execution_count": 39,
      "metadata": {
        "id": "LxSGftdMXUIF"
      },
      "outputs": [
        {
          "name": "stdout",
          "output_type": "stream",
          "text": [
            "['ImageDots_1.jpg', 'ImageDots_2.jpg', 'ImageDots_3.jpg', 'ImageDots_4.jpg', 'ImageDots_5.jpg']\n",
            "['ImageDownload_1.jpg', 'ImageDownload_2.jpg', 'ImageDownload_3.jpg', 'ImageDownload_4.jpg', 'ImageDownload_5.jpg']\n"
          ]
        }
      ],
      "source": [
        "def files_in_folder(folder_path):\n",
        "  '''\n",
        "  Returns a list of strings where each entry is a file in the folder_path.\n",
        "  \n",
        "  Parameters\n",
        "  ----------\n",
        "  \n",
        "  folder_path : str\n",
        "     A string to folder for which the file listing is returned.\n",
        "     \n",
        "  '''\n",
        "  files_A = os.listdir(folder_path)\n",
        "  # The files when listed from Google Drive have a particular format. They are\n",
        "  # grouped in sets of 4 and have spaces and tabs as delimiters.\n",
        "  \n",
        "  # Split the string listing sets of 4 files by tab and space and remove any \n",
        "  # empty splits.\n",
        "  files_B = [list(filter(None, re.split('\\t|\\s', files))) for files in files_A]\n",
        "  # files_B = [list(filter(None, files)) for files in files_A]\n",
        "  \n",
        "  # Concatenate all splits into a single sorted list\n",
        "  files_C = []\n",
        "  for element in files_B:\n",
        "    files_C = files_C + element\n",
        "  files_C.sort()\n",
        "  \n",
        "  return files_C\n",
        "folder0 = PATH + '\\\\' + labels[0]\n",
        "folder1 = PATH + '\\\\'+ labels[1]\n",
        "\n",
        "files0 = files_in_folder(folder0)\n",
        "files1 = files_in_folder(folder1)\n",
        "print(files0)\n",
        "print(files1)"
      ]
    },
    {
      "cell_type": "code",
      "execution_count": 40,
      "metadata": {
        "id": "KFr95F2rXVQy"
      },
      "outputs": [
        {
          "name": "stdout",
          "output_type": "stream",
          "text": [
            "Loaded 5 images from folder:\n",
            "C:\\Users\\joeyd\\Documents\\School\\3rd Year\\UBC Aerodesign\\dot-spotter\\testimages\\dots\n"
          ]
        },
        {
          "name": "stderr",
          "output_type": "stream",
          "text": [
            "C:\\Users\\joeyd\\AppData\\Local\\Temp\\ipykernel_17580\\4083325456.py:2: VisibleDeprecationWarning: Creating an ndarray from ragged nested sequences (which is a list-or-tuple of lists-or-tuples-or ndarrays with different lengths or shapes) is deprecated. If you meant to do this, you must specify 'dtype=object' when creating the ndarray.\n",
            "  imgset0 = np.array([[np.array(Image.open(f'{folder0}/{file}')), 0]\n"
          ]
        }
      ],
      "source": [
        "# Load the images and assign label 0 and 1\n",
        "imgset0 = np.array([[np.array(Image.open(f'{folder0}/{file}')), 0]\n",
        "                    for file in files0[:]])\n",
        "print(\"Loaded {:} images from folder:\\n{}\".format(imgset0.shape[0], folder0))"
      ]
    },
    {
      "cell_type": "code",
      "execution_count": 41,
      "metadata": {
        "id": "AiwIrPhXXeKU"
      },
      "outputs": [
        {
          "name": "stdout",
          "output_type": "stream",
          "text": [
            "Loaded 5 images from folder:\n",
            "C:\\Users\\joeyd\\Documents\\School\\3rd Year\\UBC Aerodesign\\dot-spotter\\testimages\\nodots\n"
          ]
        }
      ],
      "source": [
        "imgset1 = np.array([[np.array(Image.open(f'{folder1}/{file}')), 1]\n",
        "                    for file in files1[:]], dtype=object)\n",
        "print(\"Loaded {:} images from folder:\\n{}\".format(imgset1.shape[0], folder1))"
      ]
    },
    {
      "cell_type": "code",
      "execution_count": 42,
      "metadata": {
        "id": "PUvVoi-TXfFR"
      },
      "outputs": [],
      "source": [
        "all_dataset = np.concatenate((imgset0, imgset1), axis=0)"
      ]
    },
    {
      "cell_type": "code",
      "execution_count": 43,
      "metadata": {
        "id": "OEvhp0rRBlzU"
      },
      "outputs": [],
      "source": [
        "# Shuffle the dataset\n",
        "np.random.shuffle(all_dataset)"
      ]
    },
    {
      "cell_type": "code",
      "execution_count": 44,
      "metadata": {
        "colab": {
          "base_uri": "https://localhost:8080/"
        },
        "id": "1QeZRVTeXnsv",
        "outputId": "f05593a2-ead0-474b-f039-e01d57809688"
      },
      "outputs": [],
      "source": [
        "# Generate X and Y datasets\n",
        "X_dataset_orig = np.array([data[0] for data in all_dataset[:]], dtype=object)\n",
        "Y_dataset_orig = np.array([[data[1]] for data in all_dataset]).T"
      ]
    },
    {
      "cell_type": "code",
      "execution_count": 45,
      "metadata": {
        "id": "3Y8kWMW8XrJ5"
      },
      "outputs": [],
      "source": [
        "NUMBER_OF_LABELS = 2\n",
        "CONFIDENCE_THRESHOLD = 0.01\n",
        "\n",
        "def convert_to_one_hot(Y, C):\n",
        "    Y = np.eye(C)[Y.reshape(-1)].T\n",
        "    return Y\n",
        "# Normalize X (images) dataset\n",
        "X_dataset = X_dataset_orig\n",
        "for i in range(len(X_dataset_orig)):\n",
        "    X_dataset[i] = X_dataset[i]/255.\n",
        "\n",
        "# Convert Y dataset to one-hot encoding\n",
        "Y_dataset = convert_to_one_hot(Y_dataset_orig, NUMBER_OF_LABELS).T\n",
        "X_dataset_init = X_dataset"
      ]
    },
    {
      "cell_type": "code",
      "execution_count": 46,
      "metadata": {
        "id": "cCD1GITRXvL8"
      },
      "outputs": [
        {
          "name": "stdout",
          "output_type": "stream",
          "text": [
            "Total examples: 10\n",
            "Training examples: 8\n",
            "Test examples: 2\n",
            "X shape: (10, 1080, 1920, 3)\n",
            "Y shape: (10, 2)\n"
          ]
        }
      ],
      "source": [
        "VALIDATION_SPLIT = 0.2\n",
        "\n",
        "print(\"Total examples: {:d}\\nTraining examples: {:d}\\nTest examples: {:d}\".\n",
        "      format(X_dataset.shape[0],\n",
        "             math.ceil(X_dataset.shape[0] * (1-VALIDATION_SPLIT)),\n",
        "             math.floor(X_dataset.shape[0] * VALIDATION_SPLIT)))\n",
        "print(\"X shape: \" + str(X_dataset.shape))\n",
        "print(\"Y shape: \" + str(Y_dataset.shape))"
      ]
    },
    {
      "cell_type": "markdown",
      "metadata": {
        "id": "9Zmb2tR9X2FP"
      },
      "source": [
        "## Train CNN"
      ]
    },
    {
      "cell_type": "code",
      "execution_count": 47,
      "metadata": {
        "id": "2lcCeKWSX68r"
      },
      "outputs": [],
      "source": [
        "import tensorflow\n",
        "from tensorflow.keras import layers\n",
        "from tensorflow.keras import models\n",
        "from tensorflow.keras import optimizers\n",
        "\n",
        "from tensorflow.keras.utils import plot_model\n",
        "from tensorflow.keras import backend"
      ]
    },
    {
      "cell_type": "markdown",
      "metadata": {
        "id": "jnJDVDCWUomK"
      },
      "source": [
        "## Model definition"
      ]
    },
    {
      "cell_type": "code",
      "execution_count": 48,
      "metadata": {
        "id": "9HmypEgxX9jt"
      },
      "outputs": [],
      "source": [
        "conv_model = models.Sequential()\n",
        "conv_model.add(layers.Conv2D(32, (3, 3), activation='relu',\n",
        "                             input_shape=(HEIGHT, WIDTH, 3)))\n",
        "conv_model.add(layers.MaxPooling2D((2, 2)))\n",
        "conv_model.add(layers.Conv2D(64, (3, 3), activation='relu'))\n",
        "conv_model.add(layers.MaxPooling2D((2, 2)))\n",
        "conv_model.add(layers.Conv2D(128, (3, 3), activation='relu'))\n",
        "conv_model.add(layers.MaxPooling2D((2, 2)))\n",
        "conv_model.add(layers.Conv2D(128, (3, 3), activation='relu'))\n",
        "conv_model.add(layers.MaxPooling2D((2, 2)))\n",
        "conv_model.add(layers.Flatten())\n",
        "conv_model.add(layers.Dropout(0.5))\n",
        "conv_model.add(layers.Dense(512, activation='relu'))\n",
        "conv_model.add(layers.Dense(2, activation='softmax'))"
      ]
    },
    {
      "cell_type": "code",
      "execution_count": 49,
      "metadata": {
        "id": "8E0vmjNyYAro"
      },
      "outputs": [
        {
          "name": "stdout",
          "output_type": "stream",
          "text": [
            "Model: \"sequential_1\"\n",
            "_________________________________________________________________\n",
            " Layer (type)                Output Shape              Param #   \n",
            "=================================================================\n",
            " conv2d_4 (Conv2D)           (None, 1078, 1918, 32)    896       \n",
            "                                                                 \n",
            " max_pooling2d_4 (MaxPooling  (None, 539, 959, 32)     0         \n",
            " 2D)                                                             \n",
            "                                                                 \n",
            " conv2d_5 (Conv2D)           (None, 537, 957, 64)      18496     \n",
            "                                                                 \n",
            " max_pooling2d_5 (MaxPooling  (None, 268, 478, 64)     0         \n",
            " 2D)                                                             \n",
            "                                                                 \n",
            " conv2d_6 (Conv2D)           (None, 266, 476, 128)     73856     \n",
            "                                                                 \n",
            " max_pooling2d_6 (MaxPooling  (None, 133, 238, 128)    0         \n",
            " 2D)                                                             \n",
            "                                                                 \n",
            " conv2d_7 (Conv2D)           (None, 131, 236, 128)     147584    \n",
            "                                                                 \n",
            " max_pooling2d_7 (MaxPooling  (None, 65, 118, 128)     0         \n",
            " 2D)                                                             \n",
            "                                                                 \n",
            " flatten_1 (Flatten)         (None, 981760)            0         \n",
            "                                                                 \n",
            " dropout_1 (Dropout)         (None, 981760)            0         \n",
            "                                                                 \n",
            " dense_2 (Dense)             (None, 512)               502661632 \n",
            "                                                                 \n",
            " dense_3 (Dense)             (None, 2)                 1026      \n",
            "                                                                 \n",
            "=================================================================\n",
            "Total params: 502,903,490\n",
            "Trainable params: 502,903,490\n",
            "Non-trainable params: 0\n",
            "_________________________________________________________________\n"
          ]
        }
      ],
      "source": [
        "conv_model.summary()"
      ]
    },
    {
      "cell_type": "code",
      "execution_count": 50,
      "metadata": {
        "id": "oktNuZifYep9"
      },
      "outputs": [],
      "source": [
        "LEARNING_RATE = 1e-4\n",
        "conv_model.compile(loss='binary_crossentropy',\n",
        "                   optimizer=optimizers.RMSprop(learning_rate=LEARNING_RATE),\n",
        "                   metrics=['acc'])"
      ]
    },
    {
      "cell_type": "code",
      "execution_count": 51,
      "metadata": {},
      "outputs": [],
      "source": [
        "X_dataset = np.asarray(X_dataset).astype(np.float32)\n",
        "Y_dataset = np.asarray(Y_dataset).astype(np.float32)"
      ]
    },
    {
      "cell_type": "code",
      "execution_count": 52,
      "metadata": {
        "id": "wV33OYHmYgjC"
      },
      "outputs": [
        {
          "name": "stdout",
          "output_type": "stream",
          "text": [
            "1/1 [==============================] - 50s 50s/step - loss: 0.6961 - acc: 0.2500 - val_loss: 18.6506 - val_acc: 0.0000e+00\n"
          ]
        }
      ],
      "source": [
        "history_conv = conv_model.fit(X_dataset, Y_dataset, \n",
        "                              validation_split=VALIDATION_SPLIT, \n",
        "                              epochs=1, \n",
        "                              batch_size=16)"
      ]
    },
    {
      "cell_type": "code",
      "execution_count": 53,
      "metadata": {
        "id": "J6XTABclYmZe"
      },
      "outputs": [
        {
          "data": {
            "image/png": "[encoded data removed]",
            "text/plain": [
              "<Figure size 432x288 with 1 Axes>"
            ]
          },
          "metadata": {
            "needs_background": "light"
          },
          "output_type": "display_data"
        }
      ],
      "source": [
        "plt.plot(history_conv.history['loss'])\n",
        "plt.plot(history_conv.history['val_loss'])\n",
        "plt.title('model loss')\n",
        "plt.ylabel('loss')\n",
        "plt.xlabel('epoch')\n",
        "plt.legend(['train loss', 'val loss'], loc='upper left')\n",
        "plt.show()"
      ]
    },
    {
      "cell_type": "code",
      "execution_count": 54,
      "metadata": {
        "id": "LQttXMJFYqir"
      },
      "outputs": [
        {
          "data": {
            "image/png": "[encoded data removed]",
            "text/plain": [
              "<Figure size 432x288 with 1 Axes>"
            ]
          },
          "metadata": {
            "needs_background": "light"
          },
          "output_type": "display_data"
        }
      ],
      "source": [
        "plt.plot(history_conv.history['acc'])\n",
        "plt.plot(history_conv.history['val_acc'])\n",
        "plt.title('model accuracy')\n",
        "plt.ylabel('accuracy (%)')\n",
        "plt.xlabel('epoch')\n",
        "plt.legend(['train accuracy', 'val accuracy'], loc='upper left')\n",
        "plt.show()"
      ]
    },
    {
      "cell_type": "markdown",
      "metadata": {
        "id": "-EDwRy0oYyXn"
      },
      "source": [
        "## Test model"
      ]
    },
    {
      "cell_type": "code",
      "execution_count": 57,
      "metadata": {
        "id": "87Katd2fYzA8"
      },
      "outputs": [
        {
          "data": {
            "application/vnd.jupyter.widget-view+json": {
              "model_id": "0b3c6bc12c3b46d99a5fc48ede6745bc",
              "version_major": 2,
              "version_minor": 0
            },
            "text/plain": [
              "interactive(children=(IntSlider(value=10, description='index', max=10), Output()), _dom_classes=('widget-inter…"
            ]
          },
          "metadata": {},
          "output_type": "display_data"
        },
        {
          "data": {
            "text/plain": [
              "<function __main__.displayImage(index)>"
            ]
          },
          "execution_count": 57,
          "metadata": {},
          "output_type": "execute_result"
        }
      ],
      "source": [
        "from ipywidgets import interact\n",
        "import ipywidgets as ipywidgets\n",
        "\n",
        "# Display images in the training data set. \n",
        "def displayImage(index):\n",
        "  img = X_dataset[index]\n",
        "  \n",
        "  img_aug = np.expand_dims(img, axis=0)\n",
        "  y_predict = conv_model.predict(img_aug)[0]\n",
        "  \n",
        "  plt.imshow(img)  \n",
        "  caption = (\"                Dot | No Dots\\n\"+\n",
        "             \"GND truth: {:.2} | {:.2}\\nPredicted: {:.2} | {:.2}\".\n",
        "             format(Y_dataset[index][0], Y_dataset[index][1], y_predict[0], y_predict[1]))\n",
        "  plt.text(0.5, 0.5, caption, \n",
        "           color='orange', fontsize = 16,\n",
        "           horizontalalignment='left', verticalalignment='bottom')\n",
        "\n",
        "\n",
        "interact(displayImage, \n",
        "        index=ipywidgets.IntSlider(min=0, max=X_dataset_orig.shape[0],\n",
        "                                   step=1, value=10))\n",
        "#displayImage(3)"
      ]
    }
  ],
  "metadata": {
    "accelerator": "GPU",
    "colab": {
      "collapsed_sections": [],
      "provenance": []
    },
    "kernelspec": {
      "display_name": "Python 3.8.8 ('base')",
      "language": "python",
      "name": "python3"
    },
    "language_info": {
      "codemirror_mode": {
        "name": "ipython",
        "version": 3
      },
      "file_extension": ".py",
      "mimetype": "text/x-python",
      "name": "python",
      "nbconvert_exporter": "python",
      "pygments_lexer": "ipython3",
      "version": "3.9.12"
    },
    "vscode": {
      "interpreter": {
        "hash": "d82a2f0448ec76b95dfc87d14e0e6a29d32b93a1bae7c028451ebc1375aa21f2"
      }
    }
  },
  "nbformat": 4,
  "nbformat_minor": 0
}
