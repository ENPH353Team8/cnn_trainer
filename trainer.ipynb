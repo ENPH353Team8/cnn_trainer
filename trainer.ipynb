{
  "cells": [
    {
      "cell_type": "code",
      "execution_count": null,
      "metadata": {},
      "outputs": [],
      "source": [
        "!pip install pyyaml h5py"
      ]
    },
    {
      "cell_type": "code",
      "execution_count": 5,
      "metadata": {
        "id": "7QMCxLELGQ2T"
      },
      "outputs": [],
      "source": [
        "import math\n",
        "import numpy as np\n",
        "import re\n",
        "import os\n",
        "import cv2\n",
        "\n",
        "from collections import Counter\n",
        "from matplotlib import pyplot as plt\n",
        "from PIL import Image"
      ]
    },
    {
      "cell_type": "code",
      "execution_count": 6,
      "metadata": {},
      "outputs": [],
      "source": [
        "WIDTH = 320\n",
        "HEIGHT = 180"
      ]
    },
    {
      "cell_type": "markdown",
      "metadata": {
        "id": "Bxo8J7sBXGHg"
      },
      "source": [
        "## Load data"
      ]
    },
    {
      "cell_type": "code",
      "execution_count": 7,
      "metadata": {
        "id": "3OdzN5oLLYiO"
      },
      "outputs": [
        {
          "name": "stdout",
          "output_type": "stream",
          "text": [
            "3375\n"
          ]
        }
      ],
      "source": [
        "PATH = r\"/home/fizzer/cnn_trainer/data/\"\n",
        "labels_raw = os.listdir(PATH)\n",
        "labels = labels_raw\n",
        "print(len(labels))\n",
        "\n",
        "\n",
        "# GOOGLE COLAB\n",
        "# # You will need to update this path to match the folder in your Google Drive\n",
        "# PATH = \"/content/data/\"\n",
        "# labels_raw = !ls \"{PATH}\"\n",
        "# labels_tot = []\n",
        "# for label in labels_raw:\n",
        "#     for im in label.split():\n",
        "#         labels_tot.append(im)\n",
        "# print(np.size(labels_tot))\n",
        "# print(labels_raw[-1])\n",
        "# print(labels_tot)"
      ]
    },
    {
      "cell_type": "code",
      "execution_count": 8,
      "metadata": {
        "id": "KFr95F2rXVQy"
      },
      "outputs": [
        {
          "name": "stdout",
          "output_type": "stream",
          "text": [
            "(3375, 2)\n"
          ]
        },
        {
          "name": "stderr",
          "output_type": "stream",
          "text": [
            "/home/fizzer/.local/lib/python3.8/site-packages/numpy/core/fromnumeric.py:2009: VisibleDeprecationWarning: Creating an ndarray from ragged nested sequences (which is a list-or-tuple of lists-or-tuples-or ndarrays with different lengths or shapes) is deprecated. If you meant to do this, you must specify 'dtype=object' when creating the ndarray.\n",
            "  result = asarray(a).shape\n"
          ]
        }
      ],
      "source": [
        "# Load the images and assign label 0 and 1\n",
        "# imgset0 = np.array([[np.array(Image.open(f'{PATH}/{file}')), 0]\n",
        "#                     for file in labels[:]])\n",
        "\n",
        "imgset0 = []\n",
        "for label in labels:\n",
        "    # imgray = cv2.cvtColor(np.array(Image.open(f'{PATH}/{label}')), cv2.COLOR_BGR2GRAY)\n",
        "    thresh = 200\n",
        "    im_bw = cv2.threshold(np.array(Image.open(f'{PATH}/{label}')), thresh, 255, cv2.THRESH_BINARY)[1]\n",
        "    dim = (320, 180)\n",
        "    im_rs = cv2.resize(im_bw, dim, interpolation = cv2.INTER_AREA)\n",
        "    if label[-5] == 'R':\n",
        "        action = -1\n",
        "    elif label[-5] == 'F':\n",
        "        action = 0\n",
        "    else:\n",
        "        action = 1\n",
        "    imgset0.append([im_rs, action])\n",
        "\n",
        "print(np.shape(imgset0))"
      ]
    },
    {
      "cell_type": "code",
      "execution_count": 9,
      "metadata": {
        "id": "PUvVoi-TXfFR"
      },
      "outputs": [],
      "source": [
        "all_dataset = imgset0"
      ]
    },
    {
      "cell_type": "code",
      "execution_count": 10,
      "metadata": {
        "id": "OEvhp0rRBlzU"
      },
      "outputs": [],
      "source": [
        "# Shuffle the dataset\n",
        "np.random.shuffle(all_dataset)"
      ]
    },
    {
      "cell_type": "code",
      "execution_count": 11,
      "metadata": {
        "colab": {
          "base_uri": "https://localhost:8080/"
        },
        "id": "1QeZRVTeXnsv",
        "outputId": "f05593a2-ead0-474b-f039-e01d57809688"
      },
      "outputs": [],
      "source": [
        "# Generate X and Y datasets\n",
        "X_dataset_orig = np.array([data[0] for data in all_dataset[:]], dtype=object)\n",
        "Y_dataset_orig = np.array([[data[1]] for data in all_dataset]).T"
      ]
    },
    {
      "cell_type": "code",
      "execution_count": 26,
      "metadata": {
        "id": "3Y8kWMW8XrJ5"
      },
      "outputs": [],
      "source": [
        "NUMBER_OF_LABELS = 3\n",
        "CONFIDENCE_THRESHOLD = 0.01\n",
        "\n",
        "def convert_to_one_hot(Y, C):\n",
        "    Y = np.eye(C)[Y.reshape(-1)].T\n",
        "    return Y\n",
        "# Normalize X (images) dataset\n",
        "X_dataset = X_dataset_orig\n",
        "for i in range(len(X_dataset_orig)):\n",
        "    X_dataset[i] = X_dataset[i]/255.\n",
        "\n",
        "# Convert Y dataset to one-hot encoding\n",
        "Y_dataset = convert_to_one_hot(Y_dataset_orig, NUMBER_OF_LABELS).T\n",
        "X_dataset_init = X_dataset"
      ]
    },
    {
      "cell_type": "code",
      "execution_count": 13,
      "metadata": {
        "id": "cCD1GITRXvL8"
      },
      "outputs": [
        {
          "name": "stdout",
          "output_type": "stream",
          "text": [
            "Total examples: 3375\n",
            "Training examples: 2700\n",
            "Test examples: 675\n",
            "X shape: (3375, 180, 320)\n",
            "Y shape: (3375, 2)\n"
          ]
        }
      ],
      "source": [
        "VALIDATION_SPLIT = 0.2\n",
        "\n",
        "print(\"Total examples: {:d}\\nTraining examples: {:d}\\nTest examples: {:d}\".\n",
        "      format(X_dataset.shape[0],\n",
        "             math.ceil(X_dataset.shape[0] * (1-VALIDATION_SPLIT)),\n",
        "             math.floor(X_dataset.shape[0] * VALIDATION_SPLIT)))\n",
        "print(\"X shape: \" + str(X_dataset.shape))\n",
        "print(\"Y shape: \" + str(Y_dataset.shape))"
      ]
    },
    {
      "cell_type": "code",
      "execution_count": null,
      "metadata": {},
      "outputs": [],
      "source": [
        "X_dataset_rs = np.asarray(X_dataset).astype(np.float32).reshape((X_dataset.shape[0], 180, 320, 1))\n",
        "Y_dataset_rs = np.asarray(Y_dataset).astype(np.float32).reshape(Y_dataset.shape[0], 3)"
      ]
    },
    {
      "cell_type": "markdown",
      "metadata": {
        "id": "9Zmb2tR9X2FP"
      },
      "source": [
        "## Train CNN"
      ]
    },
    {
      "cell_type": "code",
      "execution_count": 14,
      "metadata": {
        "id": "2lcCeKWSX68r"
      },
      "outputs": [],
      "source": [
        "import tensorflow\n",
        "from tensorflow.keras import layers\n",
        "from tensorflow.keras import models\n",
        "from tensorflow.keras import optimizers\n",
        "\n",
        "from tensorflow.keras.utils import plot_model\n",
        "from tensorflow.keras import backend"
      ]
    },
    {
      "cell_type": "markdown",
      "metadata": {
        "id": "jnJDVDCWUomK"
      },
      "source": [
        "## Model definition"
      ]
    },
    {
      "cell_type": "code",
      "execution_count": 15,
      "metadata": {
        "id": "9HmypEgxX9jt"
      },
      "outputs": [
        {
          "name": "stderr",
          "output_type": "stream",
          "text": [
            "2022-11-20 23:13:37.549541: W tensorflow/stream_executor/platform/default/dso_loader.cc:55] Could not load dynamic library 'libcuda.so.1'; dlerror: libcuda.so.1: cannot open shared object file: No such file or directory; LD_LIBRARY_PATH: /home/fizzer/.local/lib/python3.8/site-packages/cv2/../../lib64:/opt/ros/noetic/lib\n",
            "2022-11-20 23:13:37.549564: E tensorflow/stream_executor/cuda/cuda_driver.cc:313] failed call to cuInit: UNKNOWN ERROR (303)\n",
            "2022-11-20 23:13:37.549584: I tensorflow/stream_executor/cuda/cuda_diagnostics.cc:156] kernel driver does not appear to be running on this host (skynet): /proc/driver/nvidia/version does not exist\n",
            "2022-11-20 23:13:37.554071: I tensorflow/core/platform/cpu_feature_guard.cc:143] Your CPU supports instructions that this TensorFlow binary was not compiled to use: AVX2 FMA\n",
            "2022-11-20 23:13:37.772239: I tensorflow/core/platform/profile_utils/cpu_utils.cc:102] CPU Frequency: 2599990000 Hz\n",
            "2022-11-20 23:13:37.772915: I tensorflow/compiler/xla/service/service.cc:168] XLA service 0x7fd254000b60 initialized for platform Host (this does not guarantee that XLA will be used). Devices:\n",
            "2022-11-20 23:13:37.772942: I tensorflow/compiler/xla/service/service.cc:176]   StreamExecutor device (0): Host, Default Version\n",
            "2022-11-20 23:13:38.622067: W tensorflow/core/framework/cpu_allocator_impl.cc:81] Allocation of 44826624 exceeds 10% of free system memory.\n",
            "2022-11-20 23:13:38.672369: W tensorflow/core/framework/cpu_allocator_impl.cc:81] Allocation of 44826624 exceeds 10% of free system memory.\n",
            "2022-11-20 23:13:38.692462: W tensorflow/core/framework/cpu_allocator_impl.cc:81] Allocation of 44826624 exceeds 10% of free system memory.\n"
          ]
        }
      ],
      "source": [
        "conv_model = models.Sequential()\n",
        "conv_model.add(layers.Conv2D(32, (3, 3), activation='relu',\n",
        "                             input_shape=(HEIGHT, WIDTH, 1)))\n",
        "conv_model.add(layers.MaxPooling2D((2, 2)))\n",
        "conv_model.add(layers.Conv2D(64, (3, 3), activation='relu'))\n",
        "conv_model.add(layers.MaxPooling2D((2, 2)))\n",
        "conv_model.add(layers.Conv2D(128, (3, 3), activation='relu'))\n",
        "conv_model.add(layers.MaxPooling2D((2, 2)))\n",
        "conv_model.add(layers.Conv2D(128, (3, 3), activation='relu'))\n",
        "conv_model.add(layers.MaxPooling2D((2, 2)))\n",
        "conv_model.add(layers.Flatten())\n",
        "conv_model.add(layers.Dropout(0.5))\n",
        "conv_model.add(layers.Dense(512, activation='relu'))\n",
        "conv_model.add(layers.Dense(3, activation='softmax'))"
      ]
    },
    {
      "cell_type": "code",
      "execution_count": 16,
      "metadata": {
        "id": "8E0vmjNyYAro"
      },
      "outputs": [
        {
          "name": "stdout",
          "output_type": "stream",
          "text": [
            "Model: \"sequential\"\n",
            "_________________________________________________________________\n",
            "Layer (type)                 Output Shape              Param #   \n",
            "=================================================================\n",
            "conv2d (Conv2D)              (None, 178, 338, 32)      320       \n",
            "_________________________________________________________________\n",
            "max_pooling2d (MaxPooling2D) (None, 89, 169, 32)       0         \n",
            "_________________________________________________________________\n",
            "conv2d_1 (Conv2D)            (None, 87, 167, 64)       18496     \n",
            "_________________________________________________________________\n",
            "max_pooling2d_1 (MaxPooling2 (None, 43, 83, 64)        0         \n",
            "_________________________________________________________________\n",
            "conv2d_2 (Conv2D)            (None, 41, 81, 128)       73856     \n",
            "_________________________________________________________________\n",
            "max_pooling2d_2 (MaxPooling2 (None, 20, 40, 128)       0         \n",
            "_________________________________________________________________\n",
            "conv2d_3 (Conv2D)            (None, 18, 38, 128)       147584    \n",
            "_________________________________________________________________\n",
            "max_pooling2d_3 (MaxPooling2 (None, 9, 19, 128)        0         \n",
            "_________________________________________________________________\n",
            "flatten (Flatten)            (None, 21888)             0         \n",
            "_________________________________________________________________\n",
            "dropout (Dropout)            (None, 21888)             0         \n",
            "_________________________________________________________________\n",
            "dense (Dense)                (None, 512)               11207168  \n",
            "_________________________________________________________________\n",
            "dense_1 (Dense)              (None, 2)                 1026      \n",
            "=================================================================\n",
            "Total params: 11,448,450\n",
            "Trainable params: 11,448,450\n",
            "Non-trainable params: 0\n",
            "_________________________________________________________________\n"
          ]
        }
      ],
      "source": [
        "conv_model.summary()"
      ]
    },
    {
      "cell_type": "code",
      "execution_count": 17,
      "metadata": {
        "id": "oktNuZifYep9"
      },
      "outputs": [],
      "source": [
        "LEARNING_RATE = 1e-4\n",
        "conv_model.compile(loss='binary_crossentropy',\n",
        "                   optimizer=optimizers.RMSprop(learning_rate=LEARNING_RATE),\n",
        "                   metrics=['acc'])"
      ]
    },
    {
      "cell_type": "code",
      "execution_count": 28,
      "metadata": {
        "id": "wV33OYHmYgjC"
      },
      "outputs": [
        {
          "ename": "ValueError",
          "evalue": "Failed to convert a NumPy array to a Tensor (Unsupported object type float).",
          "output_type": "error",
          "traceback": [
            "\u001b[0;31m---------------------------------------------------------------------------\u001b[0m",
            "\u001b[0;31mValueError\u001b[0m                                Traceback (most recent call last)",
            "Cell \u001b[0;32mIn [28], line 1\u001b[0m\n\u001b[0;32m----> 1\u001b[0m history_conv \u001b[39m=\u001b[39m conv_model\u001b[39m.\u001b[39;49mfit(X_dataset[:\u001b[39m10\u001b[39;49m], Y_dataset[:\u001b[39m10\u001b[39;49m], \n\u001b[1;32m      2\u001b[0m                               validation_split\u001b[39m=\u001b[39;49mVALIDATION_SPLIT, \n\u001b[1;32m      3\u001b[0m                               epochs\u001b[39m=\u001b[39;49m\u001b[39m1\u001b[39;49m, \n\u001b[1;32m      4\u001b[0m                               batch_size\u001b[39m=\u001b[39;49m\u001b[39m16\u001b[39;49m)\n",
            "File \u001b[0;32m~/.local/lib/python3.8/site-packages/tensorflow/python/keras/engine/training.py:66\u001b[0m, in \u001b[0;36menable_multi_worker.<locals>._method_wrapper\u001b[0;34m(self, *args, **kwargs)\u001b[0m\n\u001b[1;32m     64\u001b[0m \u001b[39mdef\u001b[39;00m \u001b[39m_method_wrapper\u001b[39m(\u001b[39mself\u001b[39m, \u001b[39m*\u001b[39margs, \u001b[39m*\u001b[39m\u001b[39m*\u001b[39mkwargs):\n\u001b[1;32m     65\u001b[0m   \u001b[39mif\u001b[39;00m \u001b[39mnot\u001b[39;00m \u001b[39mself\u001b[39m\u001b[39m.\u001b[39m_in_multi_worker_mode():  \u001b[39m# pylint: disable=protected-access\u001b[39;00m\n\u001b[0;32m---> 66\u001b[0m     \u001b[39mreturn\u001b[39;00m method(\u001b[39mself\u001b[39;49m, \u001b[39m*\u001b[39;49margs, \u001b[39m*\u001b[39;49m\u001b[39m*\u001b[39;49mkwargs)\n\u001b[1;32m     68\u001b[0m   \u001b[39m# Running inside `run_distribute_coordinator` already.\u001b[39;00m\n\u001b[1;32m     69\u001b[0m   \u001b[39mif\u001b[39;00m dc_context\u001b[39m.\u001b[39mget_current_worker_context():\n",
            "File \u001b[0;32m~/.local/lib/python3.8/site-packages/tensorflow/python/keras/engine/training.py:795\u001b[0m, in \u001b[0;36mModel.fit\u001b[0;34m(self, x, y, batch_size, epochs, verbose, callbacks, validation_split, validation_data, shuffle, class_weight, sample_weight, initial_epoch, steps_per_epoch, validation_steps, validation_batch_size, validation_freq, max_queue_size, workers, use_multiprocessing)\u001b[0m\n\u001b[1;32m    789\u001b[0m \u001b[39mself\u001b[39m\u001b[39m.\u001b[39m_check_call_args(\u001b[39m'\u001b[39m\u001b[39mfit\u001b[39m\u001b[39m'\u001b[39m)\n\u001b[1;32m    791\u001b[0m \u001b[39mif\u001b[39;00m validation_split:\n\u001b[1;32m    792\u001b[0m   \u001b[39m# Create the validation data using the training data. Only supported for\u001b[39;00m\n\u001b[1;32m    793\u001b[0m   \u001b[39m# `Tensor` and `NumPy` input.\u001b[39;00m\n\u001b[1;32m    794\u001b[0m   (x, y, sample_weight), validation_data \u001b[39m=\u001b[39m (\n\u001b[0;32m--> 795\u001b[0m       data_adapter\u001b[39m.\u001b[39;49mtrain_validation_split((x, y, sample_weight),\n\u001b[1;32m    796\u001b[0m                                           validation_split\u001b[39m=\u001b[39;49mvalidation_split,\n\u001b[1;32m    797\u001b[0m                                           shuffle\u001b[39m=\u001b[39;49m\u001b[39mFalse\u001b[39;49;00m))\n\u001b[1;32m    799\u001b[0m \u001b[39mwith\u001b[39;00m \u001b[39mself\u001b[39m\u001b[39m.\u001b[39mdistribute_strategy\u001b[39m.\u001b[39mscope(), \\\n\u001b[1;32m    800\u001b[0m      training_utils\u001b[39m.\u001b[39mRespectCompiledTrainableState(\u001b[39mself\u001b[39m):\n\u001b[1;32m    801\u001b[0m   \u001b[39m# Creates a `tf.data.Dataset` and handles batch and epoch iteration.\u001b[39;00m\n\u001b[1;32m    802\u001b[0m   data_handler \u001b[39m=\u001b[39m data_adapter\u001b[39m.\u001b[39mDataHandler(\n\u001b[1;32m    803\u001b[0m       x\u001b[39m=\u001b[39mx,\n\u001b[1;32m    804\u001b[0m       y\u001b[39m=\u001b[39my,\n\u001b[0;32m   (...)\u001b[0m\n\u001b[1;32m    814\u001b[0m       use_multiprocessing\u001b[39m=\u001b[39muse_multiprocessing,\n\u001b[1;32m    815\u001b[0m       model\u001b[39m=\u001b[39m\u001b[39mself\u001b[39m)\n",
            "File \u001b[0;32m~/.local/lib/python3.8/site-packages/tensorflow/python/keras/engine/data_adapter.py:1337\u001b[0m, in \u001b[0;36mtrain_validation_split\u001b[0;34m(arrays, validation_split, shuffle)\u001b[0m\n\u001b[1;32m   1334\u001b[0m   t \u001b[39m=\u001b[39m ops\u001b[39m.\u001b[39mconvert_to_tensor_v2(t)\n\u001b[1;32m   1335\u001b[0m   \u001b[39mreturn\u001b[39;00m array_ops\u001b[39m.\u001b[39mgather_v2(t, indices)\n\u001b[0;32m-> 1337\u001b[0m train_arrays \u001b[39m=\u001b[39m nest\u001b[39m.\u001b[39;49mmap_structure(\n\u001b[1;32m   1338\u001b[0m     functools\u001b[39m.\u001b[39;49mpartial(_split, indices\u001b[39m=\u001b[39;49mtrain_indices), arrays)\n\u001b[1;32m   1339\u001b[0m val_arrays \u001b[39m=\u001b[39m nest\u001b[39m.\u001b[39mmap_structure(\n\u001b[1;32m   1340\u001b[0m     functools\u001b[39m.\u001b[39mpartial(_split, indices\u001b[39m=\u001b[39mval_indices), arrays)\n\u001b[1;32m   1342\u001b[0m \u001b[39mreturn\u001b[39;00m train_arrays, val_arrays\n",
            "File \u001b[0;32m~/.local/lib/python3.8/site-packages/tensorflow/python/util/nest.py:617\u001b[0m, in \u001b[0;36mmap_structure\u001b[0;34m(func, *structure, **kwargs)\u001b[0m\n\u001b[1;32m    613\u001b[0m flat_structure \u001b[39m=\u001b[39m [flatten(s, expand_composites) \u001b[39mfor\u001b[39;00m s \u001b[39min\u001b[39;00m structure]\n\u001b[1;32m    614\u001b[0m entries \u001b[39m=\u001b[39m \u001b[39mzip\u001b[39m(\u001b[39m*\u001b[39mflat_structure)\n\u001b[1;32m    616\u001b[0m \u001b[39mreturn\u001b[39;00m pack_sequence_as(\n\u001b[0;32m--> 617\u001b[0m     structure[\u001b[39m0\u001b[39m], [func(\u001b[39m*\u001b[39mx) \u001b[39mfor\u001b[39;00m x \u001b[39min\u001b[39;00m entries],\n\u001b[1;32m    618\u001b[0m     expand_composites\u001b[39m=\u001b[39mexpand_composites)\n",
            "File \u001b[0;32m~/.local/lib/python3.8/site-packages/tensorflow/python/util/nest.py:617\u001b[0m, in \u001b[0;36m<listcomp>\u001b[0;34m(.0)\u001b[0m\n\u001b[1;32m    613\u001b[0m flat_structure \u001b[39m=\u001b[39m [flatten(s, expand_composites) \u001b[39mfor\u001b[39;00m s \u001b[39min\u001b[39;00m structure]\n\u001b[1;32m    614\u001b[0m entries \u001b[39m=\u001b[39m \u001b[39mzip\u001b[39m(\u001b[39m*\u001b[39mflat_structure)\n\u001b[1;32m    616\u001b[0m \u001b[39mreturn\u001b[39;00m pack_sequence_as(\n\u001b[0;32m--> 617\u001b[0m     structure[\u001b[39m0\u001b[39m], [func(\u001b[39m*\u001b[39;49mx) \u001b[39mfor\u001b[39;00m x \u001b[39min\u001b[39;00m entries],\n\u001b[1;32m    618\u001b[0m     expand_composites\u001b[39m=\u001b[39mexpand_composites)\n",
            "File \u001b[0;32m~/.local/lib/python3.8/site-packages/tensorflow/python/keras/engine/data_adapter.py:1334\u001b[0m, in \u001b[0;36mtrain_validation_split.<locals>._split\u001b[0;34m(t, indices)\u001b[0m\n\u001b[1;32m   1332\u001b[0m \u001b[39mif\u001b[39;00m t \u001b[39mis\u001b[39;00m \u001b[39mNone\u001b[39;00m:\n\u001b[1;32m   1333\u001b[0m   \u001b[39mreturn\u001b[39;00m t\n\u001b[0;32m-> 1334\u001b[0m t \u001b[39m=\u001b[39m ops\u001b[39m.\u001b[39;49mconvert_to_tensor_v2(t)\n\u001b[1;32m   1335\u001b[0m \u001b[39mreturn\u001b[39;00m array_ops\u001b[39m.\u001b[39mgather_v2(t, indices)\n",
            "File \u001b[0;32m~/.local/lib/python3.8/site-packages/tensorflow/python/framework/ops.py:1278\u001b[0m, in \u001b[0;36mconvert_to_tensor_v2\u001b[0;34m(value, dtype, dtype_hint, name)\u001b[0m\n\u001b[1;32m   1220\u001b[0m \u001b[39m@tf_export\u001b[39m(\u001b[39m\"\u001b[39m\u001b[39mconvert_to_tensor\u001b[39m\u001b[39m\"\u001b[39m, v1\u001b[39m=\u001b[39m[])\n\u001b[1;32m   1221\u001b[0m \u001b[39mdef\u001b[39;00m \u001b[39mconvert_to_tensor_v2\u001b[39m(value, dtype\u001b[39m=\u001b[39m\u001b[39mNone\u001b[39;00m, dtype_hint\u001b[39m=\u001b[39m\u001b[39mNone\u001b[39;00m, name\u001b[39m=\u001b[39m\u001b[39mNone\u001b[39;00m):\n\u001b[1;32m   1222\u001b[0m   \u001b[39m\"\"\"Converts the given `value` to a `Tensor`.\u001b[39;00m\n\u001b[1;32m   1223\u001b[0m \n\u001b[1;32m   1224\u001b[0m \u001b[39m  This function converts Python objects of various types to `Tensor`\u001b[39;00m\n\u001b[0;32m   (...)\u001b[0m\n\u001b[1;32m   1276\u001b[0m \u001b[39m    ValueError: If the `value` is a tensor not of given `dtype` in graph mode.\u001b[39;00m\n\u001b[1;32m   1277\u001b[0m \u001b[39m  \"\"\"\u001b[39;00m\n\u001b[0;32m-> 1278\u001b[0m   \u001b[39mreturn\u001b[39;00m convert_to_tensor(\n\u001b[1;32m   1279\u001b[0m       value\u001b[39m=\u001b[39;49mvalue,\n\u001b[1;32m   1280\u001b[0m       dtype\u001b[39m=\u001b[39;49mdtype,\n\u001b[1;32m   1281\u001b[0m       name\u001b[39m=\u001b[39;49mname,\n\u001b[1;32m   1282\u001b[0m       preferred_dtype\u001b[39m=\u001b[39;49mdtype_hint,\n\u001b[1;32m   1283\u001b[0m       as_ref\u001b[39m=\u001b[39;49m\u001b[39mFalse\u001b[39;49;00m)\n",
            "File \u001b[0;32m~/.local/lib/python3.8/site-packages/tensorflow/python/framework/ops.py:1341\u001b[0m, in \u001b[0;36mconvert_to_tensor\u001b[0;34m(value, dtype, name, as_ref, preferred_dtype, dtype_hint, ctx, accepted_result_types)\u001b[0m\n\u001b[1;32m   1336\u001b[0m       \u001b[39mraise\u001b[39;00m \u001b[39mTypeError\u001b[39;00m(\u001b[39m\"\u001b[39m\u001b[39mconvert_to_tensor did not convert to \u001b[39m\u001b[39m\"\u001b[39m\n\u001b[1;32m   1337\u001b[0m                       \u001b[39m\"\u001b[39m\u001b[39mthe preferred dtype: \u001b[39m\u001b[39m%s\u001b[39;00m\u001b[39m vs \u001b[39m\u001b[39m%s\u001b[39;00m\u001b[39m \u001b[39m\u001b[39m\"\u001b[39m \u001b[39m%\u001b[39m\n\u001b[1;32m   1338\u001b[0m                       (ret\u001b[39m.\u001b[39mdtype\u001b[39m.\u001b[39mbase_dtype, preferred_dtype\u001b[39m.\u001b[39mbase_dtype))\n\u001b[1;32m   1340\u001b[0m \u001b[39mif\u001b[39;00m ret \u001b[39mis\u001b[39;00m \u001b[39mNone\u001b[39;00m:\n\u001b[0;32m-> 1341\u001b[0m   ret \u001b[39m=\u001b[39m conversion_func(value, dtype\u001b[39m=\u001b[39;49mdtype, name\u001b[39m=\u001b[39;49mname, as_ref\u001b[39m=\u001b[39;49mas_ref)\n\u001b[1;32m   1343\u001b[0m \u001b[39mif\u001b[39;00m ret \u001b[39mis\u001b[39;00m \u001b[39mNotImplemented\u001b[39m:\n\u001b[1;32m   1344\u001b[0m   \u001b[39mcontinue\u001b[39;00m\n",
            "File \u001b[0;32m~/.local/lib/python3.8/site-packages/tensorflow/python/framework/tensor_conversion_registry.py:52\u001b[0m, in \u001b[0;36m_default_conversion_function\u001b[0;34m(***failed resolving arguments***)\u001b[0m\n\u001b[1;32m     50\u001b[0m \u001b[39mdef\u001b[39;00m \u001b[39m_default_conversion_function\u001b[39m(value, dtype, name, as_ref):\n\u001b[1;32m     51\u001b[0m   \u001b[39mdel\u001b[39;00m as_ref  \u001b[39m# Unused.\u001b[39;00m\n\u001b[0;32m---> 52\u001b[0m   \u001b[39mreturn\u001b[39;00m constant_op\u001b[39m.\u001b[39;49mconstant(value, dtype, name\u001b[39m=\u001b[39;49mname)\n",
            "File \u001b[0;32m~/.local/lib/python3.8/site-packages/tensorflow/python/framework/constant_op.py:261\u001b[0m, in \u001b[0;36mconstant\u001b[0;34m(value, dtype, shape, name)\u001b[0m\n\u001b[1;32m    164\u001b[0m \u001b[39m@tf_export\u001b[39m(\u001b[39m\"\u001b[39m\u001b[39mconstant\u001b[39m\u001b[39m\"\u001b[39m, v1\u001b[39m=\u001b[39m[])\n\u001b[1;32m    165\u001b[0m \u001b[39mdef\u001b[39;00m \u001b[39mconstant\u001b[39m(value, dtype\u001b[39m=\u001b[39m\u001b[39mNone\u001b[39;00m, shape\u001b[39m=\u001b[39m\u001b[39mNone\u001b[39;00m, name\u001b[39m=\u001b[39m\u001b[39m\"\u001b[39m\u001b[39mConst\u001b[39m\u001b[39m\"\u001b[39m):\n\u001b[1;32m    166\u001b[0m   \u001b[39m\"\"\"Creates a constant tensor from a tensor-like object.\u001b[39;00m\n\u001b[1;32m    167\u001b[0m \n\u001b[1;32m    168\u001b[0m \u001b[39m  Note: All eager `tf.Tensor` values are immutable (in contrast to\u001b[39;00m\n\u001b[0;32m   (...)\u001b[0m\n\u001b[1;32m    259\u001b[0m \u001b[39m    ValueError: if called on a symbolic tensor.\u001b[39;00m\n\u001b[1;32m    260\u001b[0m \u001b[39m  \"\"\"\u001b[39;00m\n\u001b[0;32m--> 261\u001b[0m   \u001b[39mreturn\u001b[39;00m _constant_impl(value, dtype, shape, name, verify_shape\u001b[39m=\u001b[39;49m\u001b[39mFalse\u001b[39;49;00m,\n\u001b[1;32m    262\u001b[0m                         allow_broadcast\u001b[39m=\u001b[39;49m\u001b[39mTrue\u001b[39;49;00m)\n",
            "File \u001b[0;32m~/.local/lib/python3.8/site-packages/tensorflow/python/framework/constant_op.py:270\u001b[0m, in \u001b[0;36m_constant_impl\u001b[0;34m(value, dtype, shape, name, verify_shape, allow_broadcast)\u001b[0m\n\u001b[1;32m    268\u001b[0m ctx \u001b[39m=\u001b[39m context\u001b[39m.\u001b[39mcontext()\n\u001b[1;32m    269\u001b[0m \u001b[39mif\u001b[39;00m ctx\u001b[39m.\u001b[39mexecuting_eagerly():\n\u001b[0;32m--> 270\u001b[0m   t \u001b[39m=\u001b[39m convert_to_eager_tensor(value, ctx, dtype)\n\u001b[1;32m    271\u001b[0m   \u001b[39mif\u001b[39;00m shape \u001b[39mis\u001b[39;00m \u001b[39mNone\u001b[39;00m:\n\u001b[1;32m    272\u001b[0m     \u001b[39mreturn\u001b[39;00m t\n",
            "File \u001b[0;32m~/.local/lib/python3.8/site-packages/tensorflow/python/framework/constant_op.py:96\u001b[0m, in \u001b[0;36mconvert_to_eager_tensor\u001b[0;34m(value, ctx, dtype)\u001b[0m\n\u001b[1;32m     94\u001b[0m     dtype \u001b[39m=\u001b[39m dtypes\u001b[39m.\u001b[39mas_dtype(dtype)\u001b[39m.\u001b[39mas_datatype_enum\n\u001b[1;32m     95\u001b[0m ctx\u001b[39m.\u001b[39mensure_initialized()\n\u001b[0;32m---> 96\u001b[0m \u001b[39mreturn\u001b[39;00m ops\u001b[39m.\u001b[39;49mEagerTensor(value, ctx\u001b[39m.\u001b[39;49mdevice_name, dtype)\n",
            "\u001b[0;31mValueError\u001b[0m: Failed to convert a NumPy array to a Tensor (Unsupported object type float)."
          ]
        }
      ],
      "source": [
        "history_conv = conv_model.fit(X_dataset, Y_dataset, \n",
        "                              validation_split=VALIDATION_SPLIT, \n",
        "                              epochs=1, \n",
        "                              batch_size=16)"
      ]
    },
    {
      "cell_type": "code",
      "execution_count": null,
      "metadata": {
        "id": "J6XTABclYmZe"
      },
      "outputs": [
        {
          "data": {
            "image/png": "[encoded data removed]",
            "text/plain": [
              "<Figure size 432x288 with 1 Axes>"
            ]
          },
          "metadata": {
            "needs_background": "light"
          },
          "output_type": "display_data"
        }
      ],
      "source": [
        "plt.plot(history_conv.history['loss'])\n",
        "plt.plot(history_conv.history['val_loss'])\n",
        "plt.title('model loss')\n",
        "plt.ylabel('loss')\n",
        "plt.xlabel('epoch')\n",
        "plt.legend(['train loss', 'val loss'], loc='upper left')\n",
        "plt.show()"
      ]
    },
    {
      "cell_type": "code",
      "execution_count": null,
      "metadata": {
        "id": "LQttXMJFYqir"
      },
      "outputs": [
        {
          "data": {
            "image/png": "[encoded data removed]",
            "text/plain": [
              "<Figure size 432x288 with 1 Axes>"
            ]
          },
          "metadata": {
            "needs_background": "light"
          },
          "output_type": "display_data"
        }
      ],
      "source": [
        "plt.plot(history_conv.history['acc'])\n",
        "plt.plot(history_conv.history['val_acc'])\n",
        "plt.title('model accuracy')\n",
        "plt.ylabel('accuracy (%)')\n",
        "plt.xlabel('epoch')\n",
        "plt.legend(['train accuracy', 'val accuracy'], loc='upper left')\n",
        "plt.show()"
      ]
    },
    {
      "cell_type": "markdown",
      "metadata": {
        "id": "-EDwRy0oYyXn"
      },
      "source": [
        "## Test model"
      ]
    },
    {
      "cell_type": "code",
      "execution_count": null,
      "metadata": {
        "id": "87Katd2fYzA8"
      },
      "outputs": [
        {
          "data": {
            "application/vnd.jupyter.widget-view+json": {
              "model_id": "0b3c6bc12c3b46d99a5fc48ede6745bc",
              "version_major": 2,
              "version_minor": 0
            },
            "text/plain": [
              "interactive(children=(IntSlider(value=10, description='index', max=10), Output()), _dom_classes=('widget-inter…"
            ]
          },
          "metadata": {},
          "output_type": "display_data"
        },
        {
          "data": {
            "text/plain": [
              "<function __main__.displayImage(index)>"
            ]
          },
          "execution_count": 57,
          "metadata": {},
          "output_type": "execute_result"
        }
      ],
      "source": [
        "from ipywidgets import interact\n",
        "import ipywidgets as ipywidgets\n",
        "\n",
        "# Display images in the training data set. \n",
        "def displayImage(index):\n",
        "  img = X_dataset[index]\n",
        "  \n",
        "  img_aug = np.expand_dims(img, axis=0)\n",
        "  y_predict = conv_model.predict(img_aug)[0]\n",
        "  \n",
        "  plt.imshow(img)  \n",
        "  caption = (\"                Dot | No Dots\\n\"+\n",
        "             \"GND truth: {:.2} | {:.2}\\nPredicted: {:.2} | {:.2}\".\n",
        "             format(Y_dataset[index][0], Y_dataset[index][1], y_predict[0], y_predict[1]))\n",
        "  plt.text(0.5, 0.5, caption, \n",
        "           color='orange', fontsize = 16,\n",
        "           horizontalalignment='left', verticalalignment='bottom')\n",
        "\n",
        "\n",
        "interact(displayImage, \n",
        "        index=ipywidgets.IntSlider(min=0, max=X_dataset_orig.shape[0],\n",
        "                                   step=1, value=10))\n",
        "#displayImage(3)"
      ]
    }
  ],
  "metadata": {
    "accelerator": "GPU",
    "colab": {
      "collapsed_sections": [],
      "provenance": []
    },
    "kernelspec": {
      "display_name": "Python 3.9.13 64-bit (microsoft store)",
      "language": "python",
      "name": "python3"
    },
    "language_info": {
      "codemirror_mode": {
        "name": "ipython",
        "version": 3
      },
      "file_extension": ".py",
      "mimetype": "text/x-python",
      "name": "python",
      "nbconvert_exporter": "python",
      "pygments_lexer": "ipython3",
      "version": "3.9.13"
    },
    "vscode": {
      "interpreter": {
        "hash": "8eff614b2f78753597a1aee0d283ed53e130ad8e0c04eb926549f07842b39abe"
      }
    }
  },
  "nbformat": 4,
  "nbformat_minor": 0
}
